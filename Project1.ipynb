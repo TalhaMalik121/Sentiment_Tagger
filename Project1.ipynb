{
 "cells": [
  {
   "cell_type": "markdown",
   "id": "8a77807f92f26ee",
   "metadata": {},
   "source": [
    "# Sentiment and Emotion Detector"
   ]
  },
  {
   "cell_type": "markdown",
   "id": "7d43c7246e928949",
   "metadata": {},
   "source": [
    "#### Installing Dependencies"
   ]
  },
  {
   "cell_type": "code",
   "id": "2d952be6fb175158",
   "metadata": {
    "ExecuteTime": {
     "end_time": "2025-07-22T08:56:02.623022Z",
     "start_time": "2025-07-22T08:55:54.231164Z"
    }
   },
   "source": [
    "!pip install  transformers torch\n",
    "\n"
   ],
   "outputs": [
    {
     "name": "stdout",
     "output_type": "stream",
     "text": [
      "Requirement already satisfied: streamlit in c:\\anaconda\\lib\\site-packages (1.45.1)\n",
      "Requirement already satisfied: transformers in c:\\anaconda\\lib\\site-packages (4.53.3)\n",
      "Requirement already satisfied: torch in c:\\anaconda\\lib\\site-packages (2.7.1)\n",
      "Requirement already satisfied: altair<6,>=4.0 in c:\\anaconda\\lib\\site-packages (from streamlit) (5.5.0)\n",
      "Requirement already satisfied: blinker<2,>=1.5.0 in c:\\anaconda\\lib\\site-packages (from streamlit) (1.9.0)\n",
      "Requirement already satisfied: cachetools<6,>=4.0 in c:\\anaconda\\lib\\site-packages (from streamlit) (5.5.1)\n",
      "Requirement already satisfied: click<9,>=7.0 in c:\\anaconda\\lib\\site-packages (from streamlit) (8.1.8)\n",
      "Requirement already satisfied: numpy<3,>=1.23 in c:\\anaconda\\lib\\site-packages (from streamlit) (2.1.3)\n",
      "Requirement already satisfied: packaging<25,>=20 in c:\\anaconda\\lib\\site-packages (from streamlit) (24.2)\n",
      "Requirement already satisfied: pandas<3,>=1.4.0 in c:\\anaconda\\lib\\site-packages (from streamlit) (2.2.3)\n",
      "Requirement already satisfied: pillow<12,>=7.1.0 in c:\\anaconda\\lib\\site-packages (from streamlit) (11.1.0)\n",
      "Requirement already satisfied: protobuf<7,>=3.20 in c:\\anaconda\\lib\\site-packages (from streamlit) (5.29.3)\n",
      "Requirement already satisfied: pyarrow>=7.0 in c:\\anaconda\\lib\\site-packages (from streamlit) (19.0.0)\n",
      "Requirement already satisfied: requests<3,>=2.27 in c:\\anaconda\\lib\\site-packages (from streamlit) (2.32.3)\n",
      "Requirement already satisfied: tenacity<10,>=8.1.0 in c:\\anaconda\\lib\\site-packages (from streamlit) (9.0.0)\n",
      "Requirement already satisfied: toml<2,>=0.10.1 in c:\\anaconda\\lib\\site-packages (from streamlit) (0.10.2)\n",
      "Requirement already satisfied: typing-extensions<5,>=4.4.0 in c:\\anaconda\\lib\\site-packages (from streamlit) (4.12.2)\n",
      "Requirement already satisfied: watchdog<7,>=2.1.5 in c:\\anaconda\\lib\\site-packages (from streamlit) (4.0.2)\n",
      "Requirement already satisfied: gitpython!=3.1.19,<4,>=3.0.7 in c:\\anaconda\\lib\\site-packages (from streamlit) (3.1.43)\n",
      "Requirement already satisfied: tornado<7,>=6.0.3 in c:\\anaconda\\lib\\site-packages (from streamlit) (6.5.1)\n",
      "Requirement already satisfied: jinja2 in c:\\anaconda\\lib\\site-packages (from altair<6,>=4.0->streamlit) (3.1.6)\n",
      "Requirement already satisfied: jsonschema>=3.0 in c:\\anaconda\\lib\\site-packages (from altair<6,>=4.0->streamlit) (4.23.0)\n",
      "Requirement already satisfied: narwhals>=1.14.2 in c:\\anaconda\\lib\\site-packages (from altair<6,>=4.0->streamlit) (1.31.0)\n",
      "Requirement already satisfied: colorama in c:\\anaconda\\lib\\site-packages (from click<9,>=7.0->streamlit) (0.4.6)\n",
      "Requirement already satisfied: gitdb<5,>=4.0.1 in c:\\anaconda\\lib\\site-packages (from gitpython!=3.1.19,<4,>=3.0.7->streamlit) (4.0.7)\n",
      "Requirement already satisfied: smmap<5,>=3.0.1 in c:\\anaconda\\lib\\site-packages (from gitdb<5,>=4.0.1->gitpython!=3.1.19,<4,>=3.0.7->streamlit) (4.0.0)\n",
      "Requirement already satisfied: python-dateutil>=2.8.2 in c:\\anaconda\\lib\\site-packages (from pandas<3,>=1.4.0->streamlit) (2.9.0.post0)\n",
      "Requirement already satisfied: pytz>=2020.1 in c:\\anaconda\\lib\\site-packages (from pandas<3,>=1.4.0->streamlit) (2024.1)\n",
      "Requirement already satisfied: tzdata>=2022.7 in c:\\anaconda\\lib\\site-packages (from pandas<3,>=1.4.0->streamlit) (2025.2)\n",
      "Requirement already satisfied: charset-normalizer<4,>=2 in c:\\anaconda\\lib\\site-packages (from requests<3,>=2.27->streamlit) (3.3.2)\n",
      "Requirement already satisfied: idna<4,>=2.5 in c:\\anaconda\\lib\\site-packages (from requests<3,>=2.27->streamlit) (3.7)\n",
      "Requirement already satisfied: urllib3<3,>=1.21.1 in c:\\anaconda\\lib\\site-packages (from requests<3,>=2.27->streamlit) (2.3.0)\n",
      "Requirement already satisfied: certifi>=2017.4.17 in c:\\anaconda\\lib\\site-packages (from requests<3,>=2.27->streamlit) (2025.4.26)\n",
      "Requirement already satisfied: filelock in c:\\anaconda\\lib\\site-packages (from transformers) (3.17.0)\n",
      "Requirement already satisfied: huggingface-hub<1.0,>=0.30.0 in c:\\anaconda\\lib\\site-packages (from transformers) (0.33.4)\n",
      "Requirement already satisfied: pyyaml>=5.1 in c:\\anaconda\\lib\\site-packages (from transformers) (6.0.2)\n",
      "Requirement already satisfied: regex!=2019.12.17 in c:\\anaconda\\lib\\site-packages (from transformers) (2024.11.6)\n",
      "Requirement already satisfied: tokenizers<0.22,>=0.21 in c:\\anaconda\\lib\\site-packages (from transformers) (0.21.2)\n",
      "Requirement already satisfied: safetensors>=0.4.3 in c:\\anaconda\\lib\\site-packages (from transformers) (0.5.3)\n",
      "Requirement already satisfied: tqdm>=4.27 in c:\\anaconda\\lib\\site-packages (from transformers) (4.67.1)\n",
      "Requirement already satisfied: fsspec>=2023.5.0 in c:\\anaconda\\lib\\site-packages (from huggingface-hub<1.0,>=0.30.0->transformers) (2025.3.2)\n",
      "Requirement already satisfied: sympy>=1.13.3 in c:\\anaconda\\lib\\site-packages (from torch) (1.13.3)\n",
      "Requirement already satisfied: networkx in c:\\anaconda\\lib\\site-packages (from torch) (3.4.2)\n",
      "Requirement already satisfied: setuptools in c:\\anaconda\\lib\\site-packages (from torch) (72.1.0)\n",
      "Requirement already satisfied: attrs>=22.2.0 in c:\\anaconda\\lib\\site-packages (from jsonschema>=3.0->altair<6,>=4.0->streamlit) (24.3.0)\n",
      "Requirement already satisfied: jsonschema-specifications>=2023.03.6 in c:\\anaconda\\lib\\site-packages (from jsonschema>=3.0->altair<6,>=4.0->streamlit) (2023.7.1)\n",
      "Requirement already satisfied: referencing>=0.28.4 in c:\\anaconda\\lib\\site-packages (from jsonschema>=3.0->altair<6,>=4.0->streamlit) (0.30.2)\n",
      "Requirement already satisfied: rpds-py>=0.7.1 in c:\\anaconda\\lib\\site-packages (from jsonschema>=3.0->altair<6,>=4.0->streamlit) (0.22.3)\n",
      "Requirement already satisfied: six>=1.5 in c:\\anaconda\\lib\\site-packages (from python-dateutil>=2.8.2->pandas<3,>=1.4.0->streamlit) (1.17.0)\n",
      "Requirement already satisfied: mpmath<1.4,>=1.1.0 in c:\\anaconda\\lib\\site-packages (from sympy>=1.13.3->torch) (1.3.0)\n",
      "Requirement already satisfied: MarkupSafe>=2.0 in c:\\anaconda\\lib\\site-packages (from jinja2->altair<6,>=4.0->streamlit) (3.0.2)\n"
     ]
    }
   ],
   "execution_count": 11
  },
  {
   "cell_type": "markdown",
   "id": "cac2361b857a8fc1",
   "metadata": {},
   "source": [
    "#### Loading Models"
   ]
  },
  {
   "cell_type": "code",
   "id": "96eb98d4113a0a48",
   "metadata": {
    "ExecuteTime": {
     "end_time": "2025-07-22T09:02:05.229962Z",
     "start_time": "2025-07-22T09:01:59.688011Z"
    }
   },
   "source": [
    "from transformers import pipeline\n",
    "\n",
    "# Load models\n",
    "sentiment_analyzer = pipeline(\"text-classification\", model=\"cardiffnlp/twitter-roberta-base-sentiment\", return_all_scores=True)\n",
    "emotion_analyzer = pipeline(\"text-classification\", model=\"bhadresh-savani/distilbert-base-uncased-emotion\", return_all_scores=True)"
   ],
   "outputs": [
    {
     "name": "stderr",
     "output_type": "stream",
     "text": [
      "Device set to use cpu\n",
      "Device set to use cpu\n"
     ]
    }
   ],
   "execution_count": 14
  },
  {
   "cell_type": "markdown",
   "id": "98bf4b0b7d89b082",
   "metadata": {},
   "source": [
    "#### Sentiments and Emotion Detection"
   ]
  },
  {
   "metadata": {
    "ExecuteTime": {
     "end_time": "2025-07-25T11:34:39.357845Z",
     "start_time": "2025-07-25T11:34:37.376634Z"
    }
   },
   "cell_type": "code",
   "source": [
    "# Sentiment label mapping\n",
    "sentiment_labels = {\n",
    "    \"LABEL_0\": \"Negative\",\n",
    "    \"LABEL_1\": \"Neutral\",\n",
    "    \"LABEL_2\": \"Positive\"\n",
    "}\n",
    "\n",
    "# Paragraphs to analyze\n",
    "paragraphs = [\n",
    "    \"I can’t stop smiling today! Everything just seems to be falling into place — the weather is beautiful, my favorite song came on the radio, and I finally received the job offer I’ve been working so hard for. It’s like the universe is giving me a big, warm hug. I feel light, free, and so deeply content.\",\n",
    "    \"No matter how hard I try, this project just isn’t coming together. I’ve been hitting one roadblock after another, and the lack of clear guidance is driving me up the wall. Deadlines are closing in, but every fix seems to create a new problem. It’s exhausting and honestly, I’m starting to feel defeated.\",\n",
    "    \"I spent the afternoon sitting by the lake, just watching the water ripple gently with the breeze. There was no noise, no rush — just stillness. It didn’t matter that my phone was silent or that the world was busy around me. In that moment, I felt completely grounded, like I was exactly where I was meant to be.\",\n",
    "    \"I was thrilled to finally present my project in front of the class; the hours of work really paid off, and I could see the excitement in my professor’s eyes. But when I checked my grades later, I was shocked and deeply disappointed — the feedback was vague, and the score was lower than I expected. I’m proud of my effort, but honestly, I feel a bit let down by the outcome.\"\n",
    "]\n",
    "\n",
    "# Helper to get top N scores\n",
    "def get_top_n(scores, n=3):\n",
    "    return sorted(scores, key=lambda x: x['score'], reverse=True)[:n]\n",
    "\n",
    "# Analyze paragraphs\n",
    "for text in paragraphs:\n",
    "    sentiment_scores = sentiment_analyzer(text)[0]\n",
    "    emotion_scores = emotion_analyzer(text)[0]\n",
    "\n",
    "    top_sentiments = get_top_n(sentiment_scores, 3)\n",
    "    top_emotions = get_top_n(emotion_scores, 3)\n",
    "\n",
    "    print(\"\\n📝 Paragraph:\")\n",
    "    print(text)\n",
    "\n",
    "    print(\"\\n💬 Top 3 Sentiments:\")\n",
    "    for s in top_sentiments:\n",
    "        label_name = sentiment_labels.get(s['label'], s['label'])\n",
    "        print(f\"  - {label_name} ({s['score']:.2f})\")\n",
    "\n",
    "    print(\"\\n💖 Top 3 Emotions:\")\n",
    "    for e in top_emotions:\n",
    "        print(f\"  - {e['label'].capitalize()} ({e['score']:.2f})\")\n",
    "\n",
    "    print(\"-\" * 60)"
   ],
   "id": "99554eace47dc502",
   "outputs": [
    {
     "name": "stdout",
     "output_type": "stream",
     "text": [
      "\n",
      "📝 Paragraph:\n",
      "I can’t stop smiling today! Everything just seems to be falling into place — the weather is beautiful, my favorite song came on the radio, and I finally received the job offer I’ve been working so hard for. It’s like the universe is giving me a big, warm hug. I feel light, free, and so deeply content.\n",
      "\n",
      "💬 Top 3 Sentiments:\n",
      "  - Positive (0.99)\n",
      "  - Neutral (0.01)\n",
      "  - Negative (0.00)\n",
      "\n",
      "💖 Top 3 Emotions:\n",
      "  - Joy (1.00)\n",
      "  - Love (0.00)\n",
      "  - Sadness (0.00)\n",
      "------------------------------------------------------------\n",
      "\n",
      "📝 Paragraph:\n",
      "No matter how hard I try, this project just isn’t coming together. I’ve been hitting one roadblock after another, and the lack of clear guidance is driving me up the wall. Deadlines are closing in, but every fix seems to create a new problem. It’s exhausting and honestly, I’m starting to feel defeated.\n",
      "\n",
      "💬 Top 3 Sentiments:\n",
      "  - Negative (0.96)\n",
      "  - Neutral (0.03)\n",
      "  - Positive (0.00)\n",
      "\n",
      "💖 Top 3 Emotions:\n",
      "  - Sadness (1.00)\n",
      "  - Anger (0.00)\n",
      "  - Joy (0.00)\n",
      "------------------------------------------------------------\n",
      "\n",
      "📝 Paragraph:\n",
      "I spent the afternoon sitting by the lake, just watching the water ripple gently with the breeze. There was no noise, no rush — just stillness. It didn’t matter that my phone was silent or that the world was busy around me. In that moment, I felt completely grounded, like I was exactly where I was meant to be.\n",
      "\n",
      "💬 Top 3 Sentiments:\n",
      "  - Positive (0.92)\n",
      "  - Neutral (0.08)\n",
      "  - Negative (0.00)\n",
      "\n",
      "💖 Top 3 Emotions:\n",
      "  - Sadness (0.67)\n",
      "  - Joy (0.14)\n",
      "  - Fear (0.10)\n",
      "------------------------------------------------------------\n",
      "\n",
      "📝 Paragraph:\n",
      "I was thrilled to finally present my project in front of the class; the hours of work really paid off, and I could see the excitement in my professor’s eyes. But when I checked my grades later, I was shocked and deeply disappointed — the feedback was vague, and the score was lower than I expected. I’m proud of my effort, but honestly, I feel a bit let down by the outcome.\n",
      "\n",
      "💬 Top 3 Sentiments:\n",
      "  - Negative (0.38)\n",
      "  - Neutral (0.33)\n",
      "  - Positive (0.29)\n",
      "\n",
      "💖 Top 3 Emotions:\n",
      "  - Surprise (0.83)\n",
      "  - Joy (0.09)\n",
      "  - Sadness (0.04)\n",
      "------------------------------------------------------------\n"
     ]
    }
   ],
   "execution_count": 2
  }
 ],
 "metadata": {
  "kernelspec": {
   "display_name": "Python 3 (ipykernel)",
   "language": "python",
   "name": "python3"
  },
  "language_info": {
   "codemirror_mode": {
    "name": "ipython",
    "version": 3
   },
   "file_extension": ".py",
   "mimetype": "text/x-python",
   "name": "python",
   "nbconvert_exporter": "python",
   "pygments_lexer": "ipython3",
   "version": "3.10.18"
  }
 },
 "nbformat": 4,
 "nbformat_minor": 5
}
